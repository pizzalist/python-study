{
 "cells": [
  {
   "cell_type": "markdown",
   "metadata": {},
   "source": [
    "# 실전 프로젝트: 하노이 탑과 사목 게임"
   ]
  },
  {
   "cell_type": "markdown",
   "metadata": {},
   "source": [
    "```python\n",
    "\"\"\"하노이 탑, 작성자: AI Sweigart al@inventwithpython.com\n",
    "원판 더미를 움직이는 퍼즐 게임\"\"\"\n",
    "```"
   ]
  },
  {
   "cell_type": "markdown",
   "metadata": {},
   "source": [
    "towerofhanoi 모듈에 대한 독스트링 역할을 하는 다중행 주석"
   ]
  },
  {
   "cell_type": "code",
   "execution_count": 1,
   "metadata": {},
   "outputs": [
    {
     "name": "stdout",
     "output_type": "stream",
     "text": [
      "Help on module towerofhanoi:\n",
      "\n",
      "NAME\n",
      "    towerofhanoi\n",
      "\n",
      "DESCRIPTION\n",
      "    하노이 탑, 작성자: AI Sweigart al@inventwithpython.com\n",
      "    원판 더미를 움직이는 퍼즐 게임\n",
      "\n",
      "FUNCTIONS\n",
      "    displayDisk(width)\n",
      "        주어진 width로 원판을 표시한다. width가 0이면 원판이 없음을 의미한다.\n",
      "    \n",
      "    displayTowers(towers)\n",
      "        세 탑에 배치된 원판을 표시한다.\n",
      "    \n",
      "    getPlayerMove(towers)\n",
      "        플레이어에게 이동 명령을 요청한다. (formTower, toTower)를 반환한다.\n",
      "    \n",
      "    main()\n",
      "        하노이 탑 게임을 실행한다.\n",
      "\n",
      "DATA\n",
      "    SOLVED_TOWER = [5, 4, 3, 2, 1]\n",
      "    TOTAL_DISKS = 5\n",
      "\n",
      "FILE\n",
      "    /Users/noah/workspace/python-study/clean_code/towerofhanoi.py\n",
      "\n",
      "\n"
     ]
    }
   ],
   "source": [
    "import towerofhanoi\n",
    "help(towerofhanoi)"
   ]
  },
  {
   "cell_type": "markdown",
   "metadata": {},
   "source": [
    "\n",
    "```python\n",
    "TOTAL_DISKS = 5\n",
    "\n",
    "SOLVED_TOWER = list(range(TOTAL_DISKS, 0, -1))\n",
    "```"
   ]
  },
  {
   "cell_type": "markdown",
   "metadata": {},
   "source": [
    "상수를 파일의 맨 위쪽에 정의하여 한데 묶고 전역 변수로 만든다. 대문자 스네이크 표기법"
   ]
  },
  {
   "cell_type": "markdown",
   "metadata": {},
   "source": [
    "> main()함수\n",
    "```python\n",
    "def main():\n",
    "    \"\"\"하노이 탑 게임을 실행한다.\"\"\"\n",
    "    towers = {\"A\": copy.copy(SOLVED_TOWER), \"B\": [], \"C\": []}\n",
    "    while True:\n",
    "        displayTowers(towers)\n",
    "        fromTower, toTower = getPlayerMove(towers)\n",
    "        disk = towers[fromTower].pop()\n",
    "        towers[toTower].append(disk)\n",
    "\n",
    "        if SOLVED_TOWER in (towers[\"B\"], towers[\"C\"]):  # or 과 동치 \n",
    "            displayTowers(towers)\n",
    "            print(\"퍼즐을 풀었습니다! 참 잘했습니다!\")\n",
    "            sys.exit()\n",
    "```"
   ]
  },
  {
   "cell_type": "markdown",
   "metadata": {},
   "source": [
    "+ towers의 데이터 구조는 stack\n",
    "\n",
    "###  copy.copy()\n",
    "```python\n",
    "towers = {\"A\": SOLVED_TOWER, \"B\": [], \"C\": []}\n",
    "```\n",
    "만약 위와 같이 copy를 해주지 않았다면 <br>\n",
    "SOLVED_TOWER: [5, 4, 3, 2] dict_values([[5, 4, 3, 2], [1], []])<br>\n",
    "이렇게 SOLVED_TOEWR의 값 자체가 바뀌게 된다 따라서 python의 얇은 복사 기능인 copy를 사용했다.<br>\n",
    "얇은 복사 (https://blockdmask.tistory.com/576)"
   ]
  },
  {
   "cell_type": "markdown",
   "metadata": {},
   "source": [
    "> getPlayerMove 함수\n",
    " ```python\n",
    " def getPlayerMove(towers):\n",
    "    \"\"\"플레이어에게 이동 명령을 요청한다. (formTower, toTower)를 반환한다.\"\"\"\n",
    "    while True:\n",
    "        print('탑의 \"시작\"과 \"끝\"의 글자 또는 QUITf를 입력하십시오.')\n",
    "        print(\"(예: 탑 A에서 탑 B로 원판을 이동하려면 AB를 입력합니다.)\")\n",
    "        print()\n",
    "        response = input(\"> \").upper().strip()\n",
    "        # > 는 프로그램이 실행중이라는 사실을 이용자가 인지하게 하는 장치 \n",
    "        # upper()를 통해 대소문자 구문 없이 인식하게 함\n",
    "        # strip()를 통해 문자열 시작 또는 끝에 공백이 있어서 인식하게 함\n",
    "\n",
    "        if response == \"QUIT\":\n",
    "            print(\"즐겁게 퍼즐을 풀어주셔서 감사합니다!\")\n",
    "            sys.exit()\n",
    "        \n",
    "        if response not in (\"AB\", \"AC\", \"BA\", \"BC\", \"CA\", \"CB\"):\n",
    "            print(\"AB, AC, BA, BC, CA, CB 중 하나를 입력하십시오.\")\n",
    "            continue\n",
    "        \n",
    "        fromTower, toTower = response[0], response[1]\n",
    "\n",
    "        if len(towers[fromTower]) == 0:\n",
    "            print(\"원판이 없는 탑을 선택했습니다.\")\n",
    "            continue\n",
    "        elif len(towers[toTower]) == 0:\n",
    "            return fromTower, toTower\n",
    "            \n",
    "        elif towers[toTower][-1] < towers[fromTower][-1]:\n",
    "            print(\"더 작은 원판에 더 큰 원판을 올릴 수 없습니다.\")\n",
    "            continue\n",
    "        else:\n",
    "            return fromTower, toTower\n",
    "            ```"
   ]
  },
  {
   "cell_type": "markdown",
   "metadata": {},
   "source": [
    "+ 위 함수를 main() 함수에서 한 번만 호출한다는 사실에 주목하자.\n",
    "코드 중복 제거는 함수를 사용하는 가장 일반적인 목적이다. <br>\n",
    "하지만 위 함수는 main() 함수의 코드 중복 제거를 해주지는 않는다.<br>\n",
    "하지만 코드를 별개 단위로 분리하는 용도로 사용, main() 함수가 길어지는 것을 방지"
   ]
  },
  {
   "cell_type": "markdown",
   "metadata": {},
   "source": [
    "```python\n",
    "if response not in (\"AB\", \"AC\", \"BA\", \"BC\", \"CA\", \"CB\"):\n",
    "```\n",
    "## vs <br>\n",
    "```python\n",
    "if len(response) != 2 or response[0] not in 'ABC' or response[1] not in 'ABC' or response[0] == response[1]\n",
    "첫번째 코딩인 하드코딩이 직관적이다. 경우가 여섯 가지 조합만 가능하기 때문\n"
   ]
  },
  {
   "cell_type": "markdown",
   "metadata": {},
   "source": [
    "```python\n",
    "return fromTower, toTower\n",
    "```\n",
    "return문은 항상 하나의 값만 반환한다.<br>\n",
    "위 코드는 두 개의 값을 반환하는 듯 보이지만, 사실 (fromTower, toTower)과 동일한 단일 튜플을 반환"
   ]
  },
  {
   "cell_type": "markdown",
   "metadata": {},
   "source": [
    "> displayTowers함수\n",
    "```python\n",
    "def displayTowers(towers):\n",
    "    \"\"\"세 탑에 배치된 원판을 표시한다.\"\"\"\n",
    "    for level in range(TOTAL_DISKS, -1, -1):\n",
    "        for tower in (towers[\"A\"], towers[\"B\"], towers[\"C\"]):\n",
    "            if level >= len(tower):\n",
    "                displayDisk(0)\n",
    "            else:\n",
    "                displayDisk(tower[level])\n",
    "        print()\n",
    "        \n",
    "    emptySpace = \" \" * (TOTAL_DISKS)\n",
    "    print(\"{0} A{0}{0} B{0}{0} C\\n\".format(emptySpace))\n",
    "\n",
    "def displayDisk(width):\n",
    "    \"\"\"주어진 width로 원판을 표시한다. width가 0이면 원판이 없음을 의미한다.\"\"\"\n",
    "    emptySpace = \" \" * (TOTAL_DISKS - width)\n",
    "\n",
    "    if width == 0:\n",
    "        print(f\"{emptySpace}||{emptySpace}\", end=\"\")\n",
    "    else:\n",
    "        disk = \"@\" * width\n",
    "        numLabel = str(width).rjust(2, \"_\")\n",
    "        print(f\"{emptySpace}{disk}{numLabel}{disk}{emptySpace}\", end=\"\")\n",
    "```"
   ]
  },
  {
   "cell_type": "markdown",
   "metadata": {},
   "source": []
  }
 ],
 "metadata": {
  "kernelspec": {
   "display_name": "Python 3.9.6 64-bit",
   "language": "python",
   "name": "python3"
  },
  "language_info": {
   "codemirror_mode": {
    "name": "ipython",
    "version": 3
   },
   "file_extension": ".py",
   "mimetype": "text/x-python",
   "name": "python",
   "nbconvert_exporter": "python",
   "pygments_lexer": "ipython3",
   "version": "3.9.6"
  },
  "orig_nbformat": 4,
  "vscode": {
   "interpreter": {
    "hash": "31f2aee4e71d21fbe5cf8b01ff0e069b9275f58929596ceb00d14d90e3e16cd6"
   }
  }
 },
 "nbformat": 4,
 "nbformat_minor": 2
}
