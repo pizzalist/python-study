{
 "cells": [
  {
   "cell_type": "markdown",
   "metadata": {},
   "source": [
    "```python\n",
    "class WizCoin:\n",
    "    def __init__(self, galleons, sickles, knuts):\n",
    "        \"\"\"galleons, sickless, knuts로 새로운 WizCoin 객체를 생성한다.\"\"\"\n",
    "        self.galleons = galleons\n",
    "        self.sickles = sickles\n",
    "        self.knuts = knuts\n",
    "\n",
    "    \n",
    "    def value(self):\n",
    "        \"\"\"이 WizCoin 객체에 포함된 모든 동전의 가치(크넛 단위)\"\"\"\n",
    "        return (self.galleons * 17 * 29) + (self.sickles * 29) + (self.knuts)\n",
    "    \n",
    "\n",
    "    def weightIngrams(self):\n",
    "        \"\"\"그램 단위로 동전의 무게를 반환한다.\"\"\"\n",
    "        return (self.galleons * 31.103) + (self.sickles * 11.34) + (self.knuts * 5.0)\n",
    "```"
   ]
  },
  {
   "cell_type": "markdown",
   "metadata": {},
   "source": [
    "+ 위 프로그램은 class 문을 사용하여 WizCoin이라는 새로은 클래스를 정의한다.\n",
    "+ 클래스를 만들면 새 유형의 객체가 생성된다.\n",
    "+ 관례적으로 class이름은 대문자로 시작한다."
   ]
  },
  {
   "cell_type": "code",
   "execution_count": 1,
   "metadata": {},
   "outputs": [
    {
     "name": "stdout",
     "output_type": "stream",
     "text": [
      "<wizcoin.WizCoin object at 0x104f9e0a0>\n",
      "G: 2 S: 5 K: 99\n",
      "Total value: 1230\n",
      "Weight: 613.906 grams\n",
      "\n",
      "<wizcoin.WizCoin object at 0x104c688e0>\n",
      "G: 13 S: 0 K: 0\n",
      "Total value: 6409\n",
      "Weight: 404.339 grams\n"
     ]
    }
   ],
   "source": [
    "import wizcoin\n",
    "\n",
    "purse = wizcoin.WizCoin(2, 5, 99)  # 정수들이 __init__()으로 전달된다.\n",
    "print(purse)\n",
    "print('G:', purse.galleons, 'S:', purse.sickles, 'K:', purse.knuts)\n",
    "print('Total value:', purse.value())\n",
    "print('Weight:', purse.weightIngrams(), 'grams')\n",
    "print()\n",
    "\n",
    "coinJar = wizcoin.WizCoin(13, 0, 0)\n",
    "print(coinJar)\n",
    "print('G:', coinJar.galleons, 'S:', coinJar.sickles, 'K:', coinJar.knuts)\n",
    "print('Total value:', coinJar.value())\n",
    "print('Weight:', coinJar.weightIngrams(), 'grams')"
   ]
  },
  {
   "cell_type": "markdown",
   "metadata": {},
   "source": [
    "+ WizCoin()의 인수로 정수 3개가 넘겨지는데, 이들은 __init__()의 파라피터로 전달된다.\n",
    "+ purse와 coinJar변수에 대입했던 WizCoin 객체에 대한 value()와 weightInGrams()를 호출할 수 있다."
   ]
  },
  {
   "cell_type": "markdown",
   "metadata": {},
   "source": [
    "> ## 메소드, __init__(), self\n",
    "메소드: 특정 클래스의 객체와 관련된 함수이다.<br>\n",
    "lower()는 문자열 메소드로, 문자열 객체를 대상으로 호출이 가능하다."
   ]
  },
  {
   "cell_type": "code",
   "execution_count": 3,
   "metadata": {},
   "outputs": [
    {
     "data": {
      "text/plain": [
       "'hello'"
      ]
     },
     "execution_count": 3,
     "metadata": {},
     "output_type": "execute_result"
    }
   ],
   "source": [
    "'Hello'.lower()"
   ]
  },
  {
   "cell_type": "code",
   "execution_count": 4,
   "metadata": {},
   "outputs": [
    {
     "ename": "AttributeError",
     "evalue": "'list' object has no attribute 'lower'",
     "output_type": "error",
     "traceback": [
      "\u001b[0;31m---------------------------------------------------------------------------\u001b[0m",
      "\u001b[0;31mAttributeError\u001b[0m                            Traceback (most recent call last)",
      "Cell \u001b[0;32mIn [4], line 1\u001b[0m\n\u001b[0;32m----> 1\u001b[0m \u001b[43m[\u001b[49m\u001b[38;5;124;43m'\u001b[39;49m\u001b[38;5;124;43mDog\u001b[39;49m\u001b[38;5;124;43m'\u001b[39;49m\u001b[43m,\u001b[49m\u001b[43m \u001b[49m\u001b[38;5;124;43m'\u001b[39;49m\u001b[38;5;124;43mCat\u001b[39;49m\u001b[38;5;124;43m'\u001b[39;49m\u001b[43m]\u001b[49m\u001b[38;5;241;43m.\u001b[39;49m\u001b[43mlower\u001b[49m()\n",
      "\u001b[0;31mAttributeError\u001b[0m: 'list' object has no attribute 'lower'"
     ]
    }
   ],
   "source": [
    "['Dog', 'Cat'].lower()"
   ]
  },
  {
   "cell_type": "markdown",
   "metadata": {},
   "source": [
    "_ init _()메소드: 속성의 초깃값을 설정하는 용도 \n",
    "```python\n",
    "def __init__(self, galleons, sickles, knuts):\n",
    "        \"\"\"galleons, sickless, knuts로 새로운 WizCoin 객체를 생성한다.\"\"\"\n",
    "        self.galleons = galleons\n",
    "        self.sickles = sickles\n",
    "        self.knuts = knuts\n",
    "```\n",
    "WizCoin(2, 5, 99)을 호출하면, 파이썬은 새로운 WizCoin 객체를 만든 후 인수 3개 (2, 5, 99)를 _ init _ aothemfh 로 전달 <br>\n",
    "모든 메소드마다 self라는 이름의 첫 번째 파라미터를 가지고, 메소드가 객체에서 호출되면 self 파라미터가 객체에 자동으로 전달된다.\n"
   ]
  },
  {
   "cell_type": "markdown",
   "metadata": {},
   "source": [
    "int(), str(), float(), bool()\n",
    "- 사실상 int, str, float, bool은 클래스로서, int(), str(), float(), bool() 함수는 각각 새로운 값을 반환하는 생성자 함수이다.\n",
    "  -  생성자 함수: 클래스 이름을 함수로서 호출하여 객체를 만든다."
   ]
  },
  {
   "cell_type": "markdown",
   "metadata": {},
   "source": [
    "> ## 속성\n",
    "+ 속성은 객체와 연관된 변수이다.<br>\n",
    "+ '점(.) 뒤에 따라오는 모든 이름'\n",
    "+ 모든 객체마다 독자적인 속성 집합이 있다.\n",
    "     ```python\n",
    "    purse = wizcoin.WizCoin(2, 5, 99)\n",
    "    coinJar = wizcoin.WizCoin(13, 0, 0)\n",
    "    #G: 2 S: 5 K: 99\n",
    "    #Total value: 1230\n",
    "    #Weight: 613.906 grams\n",
    "\n",
    "    #G: 13 S: 0 K: 0\n",
    "    #Total value: 6409\n",
    "    #Weight: 404.339 grams\n",
    "    ```\n"
   ]
  },
  {
   "cell_type": "markdown",
   "metadata": {},
   "source": [
    "> ## 프라이빗 속성과 프라이빗 메소드\n",
    "파이썬에서는 모든 속성과 메소드는 사실상 **공개 접근(public access)**을 허용한다.<br>\n",
    "파이썬에서는 private 속성 또는 private 메소드 이름에 밑줄(_)하나를 붙여 시작하는 관례를 따른다."
   ]
  }
 ],
 "metadata": {
  "kernelspec": {
   "display_name": "Python 3.9.6 64-bit",
   "language": "python",
   "name": "python3"
  },
  "language_info": {
   "codemirror_mode": {
    "name": "ipython",
    "version": 3
   },
   "file_extension": ".py",
   "mimetype": "text/x-python",
   "name": "python",
   "nbconvert_exporter": "python",
   "pygments_lexer": "ipython3",
   "version": "3.9.6"
  },
  "orig_nbformat": 4,
  "vscode": {
   "interpreter": {
    "hash": "31f2aee4e71d21fbe5cf8b01ff0e069b9275f58929596ceb00d14d90e3e16cd6"
   }
  }
 },
 "nbformat": 4,
 "nbformat_minor": 2
}
