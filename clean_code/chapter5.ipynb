{
 "cells": [
  {
   "cell_type": "markdown",
   "metadata": {},
   "source": [
    "# 5장 코드 악취 감지와 대응\n",
    "코드 악취 : 잠재적인 버그를 암시하는 소스코드 패턴"
   ]
  },
  {
   "cell_type": "markdown",
   "metadata": {},
   "source": [
    ">##  1. 중복된 코드 \n",
    "- 코드 변경이 까다롭다.\n",
    "\n",
    "### 해결 방법\n",
    "중복 자체를 없애는것"
   ]
  },
  {
   "cell_type": "markdown",
   "metadata": {},
   "source": [
    ">## 2. 매직넘버"
   ]
  },
  {
   "cell_type": "markdown",
   "metadata": {},
   "source": [
    ">## 3. 주석처리된 코드와 죽은 코드\n",
    "죽은 코드: 도달할 수 없거나 논리적으로 결코 실행할 수 없는 코드"
   ]
  },
  {
   "cell_type": "markdown",
   "metadata": {},
   "source": [
    ">## 4. 디버깅 출력"
   ]
  },
  {
   "cell_type": "markdown",
   "metadata": {},
   "source": [
    ">## 5. 숫자 접미사가 붙은 변수"
   ]
  },
  {
   "cell_type": "markdown",
   "metadata": {},
   "source": [
    ">## 6. 그냥 함수나 모듈이어야 하는 클래스"
   ]
  },
  {
   "cell_type": "markdown",
   "metadata": {},
   "source": [
    ">## 7. 중첩된 리스트 컴프리헨션\n",
    "list comprehension: 복잡한 리스트 값을 만드는 간결한 방법"
   ]
  },
  {
   "cell_type": "code",
   "execution_count": null,
   "metadata": {},
   "outputs": [],
   "source": [
    "# 원래\n",
    "spam = []\n",
    "for number in range(100):\n",
    "    if number % 5 != 0:\n",
    "        spam.append(str(number))\n",
    "spam"
   ]
  },
  {
   "cell_type": "code",
   "execution_count": null,
   "metadata": {},
   "outputs": [],
   "source": [
    "#list comprehension 사용\n",
    "spam = [str(number) for number in range(100) if number % 5 != 0]\n",
    "spam"
   ]
  },
  {
   "cell_type": "code",
   "execution_count": null,
   "metadata": {},
   "outputs": [],
   "source": [
    "#집합 값을 생성\n",
    "spam = {str(number) for number in range(100) if number % 5 != 0}\n",
    "spam"
   ]
  },
  {
   "cell_type": "code",
   "execution_count": null,
   "metadata": {},
   "outputs": [],
   "source": [
    "#콜론을 사용해 키와 값 분리\n",
    "spam = {str(number): number for number in range(100) if number % 5 != 0}\n",
    "spam"
   ]
  },
  {
   "cell_type": "code",
   "execution_count": 6,
   "metadata": {},
   "outputs": [
    {
     "data": {
      "text/plain": [
       "[['0', '1', '2', '3'], ['4'], ['5', '6'], ['7', '8', '9']]"
      ]
     },
     "execution_count": 6,
     "metadata": {},
     "output_type": "execute_result"
    }
   ],
   "source": [
    "#comprehension 내부에 포함된 comprehension\n",
    "nestedIntList = [[0,1,2,3],[4],[5,6],[7,8,9]]\n",
    "nestedIntList = [[str(i) for i in sublist] for sublist in nestedIntList]\n",
    "nestedIntList"
   ]
  },
  {
   "cell_type": "markdown",
   "metadata": {},
   "source": [
    "위 코드는 적은 양에 코드에 많은 복잡성을 쑤셔넣어 읽기 어렵게 만든다 따라서 아래와 같은 방법으로 For 루프문을 이용한다."
   ]
  },
  {
   "cell_type": "code",
   "execution_count": 7,
   "metadata": {},
   "outputs": [
    {
     "data": {
      "text/plain": [
       "[['0', '1', '2', '3'], ['4'], ['5', '6'], ['7', '8', '9']]"
      ]
     },
     "execution_count": 7,
     "metadata": {},
     "output_type": "execute_result"
    }
   ],
   "source": [
    "nestedIntList = [[0,1,2,3],[4],[5,6],[7,8,9]]\n",
    "nestedStrList = []\n",
    "for sublist in nestedIntList:\n",
    "    nestedStrList.append([str(i) for i in sublist])\n",
    "nestedStrList"
   ]
  },
  {
   "cell_type": "markdown",
   "metadata": {},
   "source": [
    "또한 list comprehension을 활용해 중첩된 리스트를 하나로 펼쳐진 리스트로 만들수 있다."
   ]
  },
  {
   "cell_type": "code",
   "execution_count": 9,
   "metadata": {},
   "outputs": [
    {
     "data": {
      "text/plain": [
       "[0, 1, 2, 3, 4, 5, 6, 7, 8, 9]"
      ]
     },
     "execution_count": 9,
     "metadata": {},
     "output_type": "execute_result"
    }
   ],
   "source": [
    "nestedList = [[0,1,2,3],[4],[5,6],[7,8,9]]\n",
    "flatList = [num for sublist in nestedList for num in sublist]\n",
    "flatList"
   ]
  },
  {
   "cell_type": "markdown",
   "metadata": {},
   "source": [
    "위 코드는 조금 어려울 수도 있다. 좀 쉽게 이해하기 위해 for문 두개 이용해서 코드 작성 하면"
   ]
  },
  {
   "cell_type": "code",
   "execution_count": 10,
   "metadata": {},
   "outputs": [
    {
     "data": {
      "text/plain": [
       "[0, 1, 2, 3, 4, 5, 6, 7, 8, 9]"
      ]
     },
     "execution_count": 10,
     "metadata": {},
     "output_type": "execute_result"
    }
   ],
   "source": [
    "nestedList = [[0,1,2,3],[4],[5,6],[7,8,9]]\n",
    "flatList = []\n",
    "for sublist in nestedList:\n",
    "    for num in sublist:\n",
    "        flatList.append(num)\n",
    "flatList"
   ]
  },
  {
   "cell_type": "markdown",
   "metadata": {},
   "source": [
    ">## 8. 빈 예외 처리 블록과 부실한 에러 메세지\n",
    "예외 처리 : 프로그램에 문제가 생기더라도 계속 작동하도록 보장하는 기본적인 방법 중 하나"
   ]
  },
  {
   "cell_type": "code",
   "execution_count": 7,
   "metadata": {},
   "outputs": [],
   "source": [
    "try: \n",
    "    num = input('Enter a number: ')\n",
    "    num = int(num)\n",
    "except ValueError:\n",
    "    pass\n"
   ]
  },
  {
   "cell_type": "markdown",
   "metadata": {},
   "source": [
    "위 코드에선 int() 함수가 발생하는 ValueError는 except 문에서 처리하기 때문에 'forty'를 int()로 넘겨도 충돌이 일어나지 않는다.\n",
    "그러나 에러를 만나고도 슬쩍 넘어가는 것은 프로그램 충돌보다 더 나쁠 수 있다.\n",
    "\n",
    "부실한 에러 메세지를 출력하는 예외 처리 또한 코드 악취라고 할 수 있다. 다음 예를 살펴보자"
   ]
  },
  {
   "cell_type": "code",
   "execution_count": 6,
   "metadata": {},
   "outputs": [
    {
     "name": "stdout",
     "output_type": "stream",
     "text": [
      "An incorrect value was passed to int()\n"
     ]
    }
   ],
   "source": [
    "try: \n",
    "    num = input('Enter a number: ')\n",
    "    num = int(num)\n",
    "except ValueError:\n",
    "    print('An incorrect value was passed to int()')\n"
   ]
  },
  {
   "cell_type": "markdown",
   "metadata": {},
   "source": [
    "이 코드는 사용자에게 문제 해결에 필요한 정보를 충분히 제공하지 않는다.\n",
    "에러 메시지는 프로그래머가 아닌 사용자가 읽는 부분이다. \n",
    "이 에러 메시지는 int() 함수에 대한 참조오 같이 사용자가 이해하지 못할 기술적인 세부사항을 담고있을 뿐만 아니라, 문제를 어떻게 해결할 수 있는지도 알려주지 않는다.\n",
    "에러 메시지는 무슨 일이 일어났는지는 물론, 사용자가 여기서 무엇을 해야 할지 설명해야 한다.\n",
    "\n",
    "\n",
    "\n",
    " *프로그램에서 발생할 수 있는 모든 예외를 처리하지 않으면 프로그램 개발은 완료된 것이 아님을 명심하자*"
   ]
  },
  {
   "cell_type": "markdown",
   "metadata": {},
   "source": [
    ">## 9. 코드 악취에 관한 잘못된 통념\n",
    "- ### 함수 마지막에는 retrun 문이 하나만 있어야 한다?\n",
    "*둘 이상 있어도 괜찮다.*"
   ]
  },
  {
   "cell_type": "markdown",
   "metadata": {},
   "source": [
    "- ### 함수에는 try 문이 둘 이상 있으면 안 된다?\n",
    "*함수는 작고 단순해야 하지만, 그렇다고 항상 '하나의 일'만 하는 것으로 제한되어야 한다는 의미는 아니다.*\n",
    "예를 들어 삭제하고자 하는 파일이 이미 삭제됐는지 여부를 알려주는 함수를 보자."
   ]
  },
  {
   "cell_type": "code",
   "execution_count": null,
   "metadata": {},
   "outputs": [],
   "source": [
    "import os\n",
    "def deleteWithConfirmation(filename):\n",
    "    try:\n",
    "        if (input('Delete' + filename + ', are u sure? Y/N') == 'Y'):\n",
    "            os.unlink(filename)\n",
    "    except FileNotFoundError:\n",
    "        print(\"That file already did not exist\")"
   ]
  },
  {
   "cell_type": "markdown",
   "metadata": {},
   "source": [
    "- ## 플래그 인수는 나쁘다?\n",
    "*NOPE* <br>\n",
    "플래그 인수: 함수 또는 메소드 호출의 boolean인수 "
   ]
  },
  {
   "cell_type": "code",
   "execution_count": null,
   "metadata": {},
   "outputs": [],
   "source": [
    "def someFunction(flagArugument):\n",
    "    if flagArugument:\n",
    "        # 특정 코드 실행...\n",
    "    else:\n",
    "        #완전히 다른 특정 코드 실행..."
   ]
  },
  {
   "cell_type": "markdown",
   "metadata": {},
   "source": []
  }
 ],
 "metadata": {
  "kernelspec": {
   "display_name": "Python 3.9.6 64-bit",
   "language": "python",
   "name": "python3"
  },
  "language_info": {
   "codemirror_mode": {
    "name": "ipython",
    "version": 3
   },
   "file_extension": ".py",
   "mimetype": "text/x-python",
   "name": "python",
   "nbconvert_exporter": "python",
   "pygments_lexer": "ipython3",
   "version": "3.9.6"
  },
  "orig_nbformat": 4,
  "vscode": {
   "interpreter": {
    "hash": "31f2aee4e71d21fbe5cf8b01ff0e069b9275f58929596ceb00d14d90e3e16cd6"
   }
  }
 },
 "nbformat": 4,
 "nbformat_minor": 2
}
