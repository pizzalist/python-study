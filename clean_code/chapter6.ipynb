{
 "cells": [
  {
   "cell_type": "markdown",
   "metadata": {},
   "source": [
    "# 6장 파이썬다운 코드를 작성하는법\n",
    "> ## 파이썬의 선"
   ]
  },
  {
   "cell_type": "code",
   "execution_count": 1,
   "metadata": {},
   "outputs": [
    {
     "name": "stdout",
     "output_type": "stream",
     "text": [
      "The Zen of Python, by Tim Peters\n",
      "\n",
      "Beautiful is better than ugly.\n",
      "Explicit is better than implicit.\n",
      "Simple is better than complex.\n",
      "Complex is better than complicated.\n",
      "Flat is better than nested.\n",
      "Sparse is better than dense.\n",
      "Readability counts.\n",
      "Special cases aren't special enough to break the rules.\n",
      "Although practicality beats purity.\n",
      "Errors should never pass silently.\n",
      "Unless explicitly silenced.\n",
      "In the face of ambiguity, refuse the temptation to guess.\n",
      "There should be one-- and preferably only one --obvious way to do it.\n",
      "Although that way may not be obvious at first unless you're Dutch.\n",
      "Now is better than never.\n",
      "Although never is often better than *right* now.\n",
      "If the implementation is hard to explain, it's a bad idea.\n",
      "If the implementation is easy to explain, it may be a good idea.\n",
      "Namespaces are one honking great idea -- let's do more of those!\n"
     ]
    }
   ],
   "source": [
    "import this"
   ]
  },
  {
   "cell_type": "markdown",
   "metadata": {},
   "source": [
    "> ## 의미 있는 들여쓰기"
   ]
  },
  {
   "cell_type": "code",
   "execution_count": 2,
   "metadata": {},
   "outputs": [
    {
     "ename": "SyntaxError",
     "evalue": "not a chance (3905450354.py, line 1)",
     "output_type": "error",
     "traceback": [
      "\u001b[0;36m  Cell \u001b[0;32mIn [2], line 1\u001b[0;36m\u001b[0m\n\u001b[0;31m    from __future__ import braces\u001b[0m\n\u001b[0m    ^\u001b[0m\n\u001b[0;31mSyntaxError\u001b[0m\u001b[0;31m:\u001b[0m not a chance\n"
     ]
    }
   ],
   "source": [
    "from __future__ import braces"
   ]
  },
  {
   "cell_type": "markdown",
   "metadata": {},
   "source": [
    "> ## 흔히 잘못 사용되는 구문\n",
    "* ### range() 보다는 enumerate()를 사용하자.\n",
    "리스트나 다른 시퀀스를 반복할때 range() 함수나 len() 함수를 사용해서 0부터 시퀀스 길이 하나 앞까지 인덱스 정수를 생성하는 방법을 선호하는 이들도 있다."
   ]
  },
  {
   "cell_type": "code",
   "execution_count": 3,
   "metadata": {},
   "outputs": [
    {
     "name": "stdout",
     "output_type": "stream",
     "text": [
      "0 cat\n",
      "1 dog\n",
      "2 moose\n"
     ]
    }
   ],
   "source": [
    "animals = ['cat', 'dog', 'moose']\n",
    "for i in range(len(animals)):\n",
    "    print(i,animals[i])"
   ]
  },
  {
   "cell_type": "markdown",
   "metadata": {},
   "source": [
    "range(len()) 규약은 간단하지만, 읽기 어려울 수 있어서 이상적이지 않다. \n",
    "대신, 리스트나 시퀀스를 내장 enumerate() 함수에 전달하면 해당 인덱스에 대응하는 항목과 인덱스에 대한 정수가 반환된다."
   ]
  },
  {
   "cell_type": "code",
   "execution_count": 12,
   "metadata": {},
   "outputs": [
    {
     "name": "stdout",
     "output_type": "stream",
     "text": [
      "0 cat\n",
      "1 dog\n",
      "2 moose\n"
     ]
    }
   ],
   "source": [
    "# 파이썬다운 예\n",
    "animals = ['cat', 'dog', 'moose']\n",
    "for i, animal in enumerate(animals):\n",
    "    print(i,animal)"
   ]
  },
  {
   "cell_type": "code",
   "execution_count": 13,
   "metadata": {},
   "outputs": [
    {
     "name": "stdout",
     "output_type": "stream",
     "text": [
      "cat\n",
      "dog\n",
      "moose\n"
     ]
    }
   ],
   "source": [
    "# 파이썬다운 예\n",
    "animals = ['cat', 'dog', 'moose']\n",
    "for animal in animals:\n",
    "    print(animal)"
   ]
  },
  {
   "cell_type": "markdown",
   "metadata": {},
   "source": [
    "* ### open()과 close()보다는 with 문을 사용하자\n"
   ]
  },
  {
   "cell_type": "code",
   "execution_count": 14,
   "metadata": {},
   "outputs": [
    {
     "name": "stdout",
     "output_type": "stream",
     "text": [
      "some error occurred\n"
     ]
    }
   ],
   "source": [
    "# 파이썬답지 않은 예\n",
    "try:\n",
    "    fileObj = open( 'spam.txt', 'w')\n",
    "    eggs = 42 / 0   #여기서 0으로 나누기 에러 발생\n",
    "    fileObj.close() #이 행은 실행될 수 없다\n",
    "except:\n",
    "    print('some error occurred')"
   ]
  },
  {
   "cell_type": "code",
   "execution_count": 15,
   "metadata": {},
   "outputs": [],
   "source": [
    "# 파이썬다운 예\n",
    "with open( 'spam.txt', 'w') as fileObj:\n",
    "    fileObj.write('Hello, World!')"
   ]
  },
  {
   "cell_type": "markdown",
   "metadata": {},
   "source": [
    "+ ### == 대신 is를 써서 None과 비교하자\n",
    "== 동등 연산자는 두 객체의 값(value)을 비교하는 반면, is 동일 연산자는 두 객체의 아이디(identity)를 비교한다.<br>\n",
    "값을 None과 비교할 때는 거의 대부분 == 연산자보다는 is 연산자를 사용해야 한다.<br>\n",
    "-> spam이 None을 포한하는 등의 일부 경우에도 spam == None 은 True 값으로 평가될 수 있다."
   ]
  },
  {
   "cell_type": "code",
   "execution_count": 19,
   "metadata": {},
   "outputs": [
    {
     "data": {
      "text/plain": [
       "True"
      ]
     },
     "execution_count": 19,
     "metadata": {},
     "output_type": "execute_result"
    }
   ],
   "source": [
    "class SomeClass:\n",
    "    def __eq__(self, other) :\n",
    "        if other is None:\n",
    "            return True\n",
    "spam = SomeClass()\n",
    "spam == None"
   ]
  },
  {
   "cell_type": "code",
   "execution_count": 20,
   "metadata": {},
   "outputs": [
    {
     "data": {
      "text/plain": [
       "False"
      ]
     },
     "execution_count": 20,
     "metadata": {},
     "output_type": "execute_result"
    }
   ],
   "source": [
    "class SomeClass:\n",
    "    def __eq__(self, other) :\n",
    "        if other is None:\n",
    "            return True\n",
    "spam = SomeClass()\n",
    "spam is None"
   ]
  },
  {
   "cell_type": "markdown",
   "metadata": {},
   "source": [
    "True와 False 값에 is 연산자를 사용해서는 안 된다."
   ]
  },
  {
   "cell_type": "markdown",
   "metadata": {},
   "source": [
    "> ## 문자열 포매팅\n",
    "* ### 문자열에 백슬래시가 많은 경우에는 원시 문자열을 사용하자"
   ]
  },
  {
   "cell_type": "code",
   "execution_count": 1,
   "metadata": {},
   "outputs": [
    {
     "data": {
      "text/plain": [
       "\"Noah's macbook\""
      ]
     },
     "execution_count": 1,
     "metadata": {},
     "output_type": "execute_result"
    }
   ],
   "source": [
    "# 이스케이프 문자\n",
    "'Noah\\'s macbook'"
   ]
  },
  {
   "cell_type": "markdown",
   "metadata": {},
   "source": [
    "실제 백슬래시 캐릭터를 문자열에 넣고 싶다면 //로 입력해야 한다.<br>"
   ]
  },
  {
   "cell_type": "code",
   "execution_count": 2,
   "metadata": {},
   "outputs": [
    {
     "name": "stdout",
     "output_type": "stream",
     "text": [
      "The file is in C:\\Noah\\workspace\n"
     ]
    }
   ],
   "source": [
    "# 파이썬답지 않은 예\n",
    "print('The file is in C:\\\\Noah\\\\workspace')"
   ]
  },
  {
   "cell_type": "markdown",
   "metadata": {},
   "source": [
    "원시 문자열 : r 접두사가 붙은 문자열 리터럴, 백슬래시 문자를 이스케이프 문자로 취급하지 않는다."
   ]
  },
  {
   "cell_type": "code",
   "execution_count": 4,
   "metadata": {},
   "outputs": [
    {
     "name": "stdout",
     "output_type": "stream",
     "text": [
      "The file is in C: \\Noah\\workspace\n"
     ]
    }
   ],
   "source": [
    "#파이썬다운 예\n",
    "print(r'The file is in C: \\Noah\\workspace')"
   ]
  },
  {
   "cell_type": "markdown",
   "metadata": {},
   "source": [
    "* ### f-문자열을 사용한 문자열 포매팅\n",
    "문자열 포매팅: 다른 문자열을 포함하는 문자열을 만드는 과정"
   ]
  },
  {
   "cell_type": "code",
   "execution_count": 5,
   "metadata": {},
   "outputs": [
    {
     "data": {
      "text/plain": [
       "'Hello, AI. Today is Sunday and it is sunny'"
      ]
     },
     "execution_count": 5,
     "metadata": {},
     "output_type": "execute_result"
    }
   ],
   "source": [
    "name, day, weather = 'AI', 'Sunday', 'sunny'\n",
    "f'Hello, {name}. Today is {day} and it is {weather}'"
   ]
  },
  {
   "cell_type": "markdown",
   "metadata": {},
   "source": [
    "중괄호에는 완전한 표현식도 포함될 수 있다."
   ]
  },
  {
   "cell_type": "code",
   "execution_count": 6,
   "metadata": {},
   "outputs": [
    {
     "data": {
      "text/plain": [
       "'A 10 by 12 room has an area of 120.'"
      ]
     },
     "execution_count": 6,
     "metadata": {},
     "output_type": "execute_result"
    }
   ],
   "source": [
    "width, length = 10, 12\n",
    "f'A {width} by {length} room has an area of {width * length}.'"
   ]
  },
  {
   "cell_type": "markdown",
   "metadata": {},
   "source": [
    "f-문자열 내부에서 문자 중괄호를 사용해야 할 경우 중괄호를 추가로 사용하여 이스케이프 할 수 있다."
   ]
  },
  {
   "cell_type": "markdown",
   "metadata": {},
   "source": [
    "> ## 리스트의 얕은 사본 만들기 \n",
    "**슬라이스** 구분은 기존 문자열이나 리스트에서 쉽게 새 문자열이나 리스트를 만들 수 있다."
   ]
  },
  {
   "cell_type": "code",
   "execution_count": 9,
   "metadata": {},
   "outputs": [
    {
     "data": {
      "text/plain": [
       "'world'"
      ]
     },
     "execution_count": 9,
     "metadata": {},
     "output_type": "execute_result"
    }
   ],
   "source": [
    "'Hello, world!' [7:12]\n",
    "\n"
   ]
  },
  {
   "cell_type": "code",
   "execution_count": 10,
   "metadata": {},
   "outputs": [
    {
     "data": {
      "text/plain": [
       "'Hello'"
      ]
     },
     "execution_count": 10,
     "metadata": {},
     "output_type": "execute_result"
    }
   ],
   "source": [
    "'Hello, world!' [:5]"
   ]
  },
  {
   "cell_type": "code",
   "execution_count": 11,
   "metadata": {},
   "outputs": [
    {
     "data": {
      "text/plain": [
       "['rat', 'eel']"
      ]
     },
     "execution_count": 11,
     "metadata": {},
     "output_type": "execute_result"
    }
   ],
   "source": [
    "['cat', 'dog', 'rat', 'eel'] [2:]"
   ]
  },
  {
   "cell_type": "markdown",
   "metadata": {},
   "source": [
    " 콜론(:)은 새 리스트에 넣을 항목의 시작 인덱스와 종료 인덱스를 분리한다."
   ]
  },
  {
   "cell_type": "code",
   "execution_count": 13,
   "metadata": {},
   "outputs": [
    {
     "data": {
      "text/plain": [
       "False"
      ]
     },
     "execution_count": 13,
     "metadata": {},
     "output_type": "execute_result"
    }
   ],
   "source": [
    "spam = ['cat', 'dog', 'rat', 'eel']\n",
    "eggs = spam[:]\n",
    "id(spam) == id(eggs)"
   ]
  },
  {
   "cell_type": "markdown",
   "metadata": {},
   "source": [
    "spam 과 eggs 리스트의 아이디(id)가 다름에 유의하자. egg=spam[:] 행은 spam 내에 포함된 리스트의 얕은 사본을 만드는 반면, egg = spam은 리스트에 대한 참조만 복사한다.<br>\n",
    "copy 모듈의 copy() 함수를 사용하여 리스트의 얕은 사본을 만드는 편이 더 가독성이 좋다"
   ]
  },
  {
   "cell_type": "code",
   "execution_count": 14,
   "metadata": {},
   "outputs": [
    {
     "data": {
      "text/plain": [
       "False"
      ]
     },
     "execution_count": 14,
     "metadata": {},
     "output_type": "execute_result"
    }
   ],
   "source": [
    "import copy \n",
    "spam = ['cat', 'dog', 'rat', 'eel']\n",
    "eggs = copy.copy(spam)\n",
    "id(spam) == id(eggs)"
   ]
  },
  {
   "cell_type": "markdown",
   "metadata": {},
   "source": [
    "> ## 파이썬다운 딕셔너리 사용법\n",
    "+ ### 딕셔너리에서 get()과 setdefault()를 사용하자\n"
   ]
  },
  {
   "cell_type": "code",
   "execution_count": 15,
   "metadata": {},
   "outputs": [
    {
     "name": "stdout",
     "output_type": "stream",
     "text": [
      "I have 0 cats\n"
     ]
    }
   ],
   "source": [
    "# 파이썬 답지 않은 예\n",
    "numberOfPets = {'dogs' : 2}\n",
    "if 'cats' in numberOfPets:\n",
    "    print('I have',numberOfPets['cats'], 'cats.')\n",
    "else:\n",
    "    print('I have 0 cats')"
   ]
  },
  {
   "cell_type": "code",
   "execution_count": 16,
   "metadata": {},
   "outputs": [
    {
     "name": "stdout",
     "output_type": "stream",
     "text": [
      "I have 0 cats.\n"
     ]
    }
   ],
   "source": [
    "# 파이썬 다운 예\n",
    "numberOfPets = {'dogs' : 2}\n",
    "print('I have', numberOfPets.get('cats', 0), 'cats.')"
   ]
  },
  {
   "cell_type": "code",
   "execution_count": 17,
   "metadata": {},
   "outputs": [
    {
     "data": {
      "text/plain": [
       "10"
      ]
     },
     "execution_count": 17,
     "metadata": {},
     "output_type": "execute_result"
    }
   ],
   "source": [
    "# 파이썬 답지 않은 예\n",
    "numberOfPets = {'dogs' : 2}\n",
    "if 'cats' not in numberOfPets:\n",
    "    numberOfPets['cats'] = 0\n",
    "\n",
    "numberOfPets['cats'] += 10\n",
    "numberOfPets['cats']"
   ]
  },
  {
   "cell_type": "code",
   "execution_count": 20,
   "metadata": {},
   "outputs": [
    {
     "data": {
      "text/plain": [
       "10"
      ]
     },
     "execution_count": 20,
     "metadata": {},
     "output_type": "execute_result"
    }
   ],
   "source": [
    "# 파이썬 다운 예\n",
    "numberOfPets = {'dogs' : 2}\n",
    "numberOfPets.setdefault('cats', 0)\n",
    "numberOfPets['cats'] += 10\n",
    "numberOfPets['cats']"
   ]
  },
  {
   "cell_type": "markdown",
   "metadata": {},
   "source": [
    "+ ### 기본값을 위해 collections.defaultdict를 사용하자"
   ]
  },
  {
   "cell_type": "markdown",
   "metadata": {},
   "source": [
    "+ ### switch 문 대신 딕셔너리를 사용하자\n"
   ]
  },
  {
   "cell_type": "code",
   "execution_count": 21,
   "metadata": {},
   "outputs": [
    {
     "ename": "NameError",
     "evalue": "name 'season' is not defined",
     "output_type": "error",
     "traceback": [
      "\u001b[0;31m---------------------------------------------------------------------------\u001b[0m",
      "\u001b[0;31mNameError\u001b[0m                                 Traceback (most recent call last)",
      "Cell \u001b[0;32mIn [21], line 2\u001b[0m\n\u001b[1;32m      1\u001b[0m \u001b[38;5;66;03m# 다음의 모든 if와 elif 조건문은 season == 문을 포함하고 있다\u001b[39;00m\n\u001b[0;32m----> 2\u001b[0m \u001b[38;5;28;01mif\u001b[39;00m \u001b[43mseason\u001b[49m \u001b[38;5;241m==\u001b[39m \u001b[38;5;124m'\u001b[39m\u001b[38;5;124mWinter\u001b[39m\u001b[38;5;124m'\u001b[39m:\n\u001b[1;32m      3\u001b[0m     holiday \u001b[38;5;241m==\u001b[39m \u001b[38;5;124m'\u001b[39m\u001b[38;5;124mNew Year\u001b[39m\u001b[38;5;130;01m\\'\u001b[39;00m\u001b[38;5;124ms Day\u001b[39m\u001b[38;5;124m'\u001b[39m\n\u001b[1;32m      4\u001b[0m \u001b[38;5;28;01melif\u001b[39;00m season \u001b[38;5;241m==\u001b[39m \u001b[38;5;124m'\u001b[39m\u001b[38;5;124mSpring\u001b[39m\u001b[38;5;124m'\u001b[39m:\n",
      "\u001b[0;31mNameError\u001b[0m: name 'season' is not defined"
     ]
    }
   ],
   "source": [
    "# 다음의 모든 if와 elif 조건문은 season == 문을 포함하고 있다\n",
    "if season == 'Winter':\n",
    "    holiday == 'New Year\\'s Day'\n",
    "elif season == 'Spring':\n",
    "    holiday == 'May day'\n",
    "elif season == 'Fall':\n",
    "    holiday == 'Halloween'\n",
    "else:\n",
    "    holiday = 'Personal day off'"
   ]
  },
  {
   "cell_type": "code",
   "execution_count": null,
   "metadata": {},
   "outputs": [],
   "source": []
  }
 ],
 "metadata": {
  "kernelspec": {
   "display_name": "Python 3.9.6 64-bit",
   "language": "python",
   "name": "python3"
  },
  "language_info": {
   "codemirror_mode": {
    "name": "ipython",
    "version": 3
   },
   "file_extension": ".py",
   "mimetype": "text/x-python",
   "name": "python",
   "nbconvert_exporter": "python",
   "pygments_lexer": "ipython3",
   "version": "3.9.6"
  },
  "orig_nbformat": 4,
  "vscode": {
   "interpreter": {
    "hash": "31f2aee4e71d21fbe5cf8b01ff0e069b9275f58929596ceb00d14d90e3e16cd6"
   }
  }
 },
 "nbformat": 4,
 "nbformat_minor": 2
}
