{
 "cells": [
  {
   "cell_type": "markdown",
   "metadata": {},
   "source": [
    "# 7장 파이썬 세상의 프로그래밍 용어\n",
    "\n",
    "> ## 가비지 컬렉션\n",
    "가비지 컬렉션 : 메모리 할당과 해제를 해야 하는 시점을 추적해 프로그래머의 부담을 덜어주는 자동화된 메모리 관리 기법"
   ]
  },
  {
   "cell_type": "code",
   "execution_count": 39,
   "metadata": {},
   "outputs": [
    {
     "data": {
      "text/plain": [
       "4631102144"
      ]
     },
     "execution_count": 39,
     "metadata": {},
     "output_type": "execute_result"
    }
   ],
   "source": [
    "# (p162) 가변, 불변 데이터 타입 참조\n",
    "spam = ['cat', 'dog']\n",
    "spam.append('moose')\n",
    "id(spam)"
   ]
  },
  {
   "cell_type": "code",
   "execution_count": 40,
   "metadata": {},
   "outputs": [
    {
     "data": {
      "text/plain": [
       "4631466688"
      ]
     },
     "execution_count": 40,
     "metadata": {},
     "output_type": "execute_result"
    }
   ],
   "source": [
    "# 리스트 연결\n",
    "spam = spam + ['rat']\n",
    "id(spam)"
   ]
  },
  {
   "cell_type": "markdown",
   "metadata": {},
   "source": [
    "+연산자를 사용해 리스트를 연결하면, 이전 리스트를 덮어쓰는 새로운 객체(새로운 아이디) 생성<br>\n",
    "리스트연결 : 새로운 아이디를 가지는 새로운 리스트를 만든다. <br>\n",
    "리스트가 새로 만들어질 때, 예전 리스트는 결국 **가비지 컬렉션**에 의해 메모리에서 할당 해제될 것이다."
   ]
  },
  {
   "cell_type": "markdown",
   "metadata": {},
   "source": [
    "> ## 리터널\n",
    "리터널 : 사람이 직접 손으로 작성한 고정 값을 나타내는 소스코드 상의 텍스트\n"
   ]
  },
  {
   "cell_type": "code",
   "execution_count": 2,
   "metadata": {},
   "outputs": [],
   "source": [
    "# 42 -> 정수 리터럴\n",
    "# Zophie -> 문자열 리터럴\n",
    "age = 42 + len('Zophie')\n"
   ]
  },
  {
   "cell_type": "markdown",
   "metadata": {},
   "source": [
    "> ## 키워드\n",
    "파이썬 키워드는 언어의 일부로 사용하고자 예약된 이름의 집합이며 변수 이름으로 사용할 수 없다.\n",
    "+ and\n",
    "+ continue\n",
    "+ def\n",
    "+ None\n",
    "+ True \n",
    "+ return\n",
    "+ await\n",
    "+ else\n",
    "+ elif\n",
    "+ if\n",
    "+ import <br> \n",
    "..."
   ]
  },
  {
   "cell_type": "markdown",
   "metadata": {},
   "source": [
    "> ## 객체, 값, 인스턴스, 아이디\n",
    "**객체**: 데이터를 표현하는 것 여기서 데이터란 숫자나 텍스트, 혹은 리스트와 딕셔너리 같은 복잡한 데이터 구조를 전부 아우른다.<br>\n",
    "모든 객체는 값(value), 아이디(identity), 데이터 타입(data type)이 있다.<br>\n",
    "**값** : 정수 42 또는 문자열 hello와 같이 객체가 나타내는 데이터다."
   ]
  },
  {
   "cell_type": "markdown",
   "metadata": {},
   "source": [
    "객체는 id() 함수를 호출해서 확인할 수 있는 유일한 정수인 아이디를 가지고 생성된다."
   ]
  },
  {
   "cell_type": "code",
   "execution_count": 10,
   "metadata": {},
   "outputs": [
    {
     "data": {
      "text/plain": [
       "4544360704"
      ]
     },
     "execution_count": 10,
     "metadata": {},
     "output_type": "execute_result"
    }
   ],
   "source": [
    "# 프로그램이 실행될 때마다 정수의 아이디가 달라진다.\n",
    "# 프로그램이 실행되는 동안은 변경되지 않는다.\n",
    "spam = ['cat', 'dog', 'moose']\n",
    "id(spam)"
   ]
  },
  {
   "cell_type": "code",
   "execution_count": 14,
   "metadata": {},
   "outputs": [
    {
     "data": {
      "text/plain": [
       "4544360704"
      ]
     },
     "execution_count": 14,
     "metadata": {},
     "output_type": "execute_result"
    }
   ],
   "source": [
    "spam.append('snake')\n",
    "id(spam)"
   ]
  },
  {
   "cell_type": "markdown",
   "metadata": {},
   "source": []
  },
  {
   "cell_type": "code",
   "execution_count": 15,
   "metadata": {},
   "outputs": [
    {
     "data": {
      "text/plain": [
       "4615637312"
      ]
     },
     "execution_count": 15,
     "metadata": {},
     "output_type": "execute_result"
    }
   ],
   "source": [
    "spam = [1, 2, 3]\n",
    "id(spam)"
   ]
  },
  {
   "cell_type": "markdown",
   "metadata": {},
   "source": [
    "새 아이디를 가진 새 리스트 객체에 의해 덮어써졌다. 여러 식별자가 동일한 객체를 참조할 수 있기 때문에, spam 같은 식별자는 아이디와는 전혀 다르다."
   ]
  },
  {
   "cell_type": "markdown",
   "metadata": {},
   "source": [
    "딕셔너리에 할당된 두 변수를 보여주는 다음 예에서도 마찬가지이다."
   ]
  },
  {
   "cell_type": "code",
   "execution_count": 16,
   "metadata": {},
   "outputs": [
    {
     "data": {
      "text/plain": [
       "4543348224"
      ]
     },
     "execution_count": 16,
     "metadata": {},
     "output_type": "execute_result"
    }
   ],
   "source": [
    "spam = {'name': 'Zophie'}\n",
    "id(spam)"
   ]
  },
  {
   "cell_type": "code",
   "execution_count": 17,
   "metadata": {},
   "outputs": [
    {
     "data": {
      "text/plain": [
       "4543348224"
      ]
     },
     "execution_count": 17,
     "metadata": {},
     "output_type": "execute_result"
    }
   ],
   "source": [
    "eggs = spam\n",
    "id(eggs)"
   ]
  },
  {
   "cell_type": "code",
   "execution_count": 18,
   "metadata": {},
   "outputs": [
    {
     "data": {
      "text/plain": [
       "{'name': 'AI'}"
      ]
     },
     "execution_count": 18,
     "metadata": {},
     "output_type": "execute_result"
    }
   ],
   "source": [
    "spam = {'name': 'Zophie'}\n",
    "eggs = spam\n",
    "spam['name'] = 'AI'\n",
    "spam"
   ]
  },
  {
   "cell_type": "code",
   "execution_count": 21,
   "metadata": {},
   "outputs": [
    {
     "data": {
      "text/plain": [
       "{'name': 'AI'}"
      ]
     },
     "execution_count": 21,
     "metadata": {},
     "output_type": "execute_result"
    }
   ],
   "source": [
    "# 둘다 동일한 객체를 가리키기 때문\n",
    "eggs"
   ]
  },
  {
   "cell_type": "code",
   "execution_count": 20,
   "metadata": {},
   "outputs": [
    {
     "data": {
      "text/plain": [
       "4543509248"
      ]
     },
     "execution_count": 20,
     "metadata": {},
     "output_type": "execute_result"
    }
   ],
   "source": [
    "id(eggs)"
   ]
  },
  {
   "cell_type": "markdown",
   "metadata": {},
   "source": [
    "* is 연산자로 두 객체의 아이디가 같은지 여부를 비교할 수 있다. 반면에 == 연산자는 객체 값이 같은지 여부만 확인한다.<br>\n",
    "**x is y는 id(x) == id(y)**"
   ]
  },
  {
   "cell_type": "code",
   "execution_count": 23,
   "metadata": {},
   "outputs": [
    {
     "data": {
      "text/plain": [
       "True"
      ]
     },
     "execution_count": 23,
     "metadata": {},
     "output_type": "execute_result"
    }
   ],
   "source": [
    "spam = {'name': 'noah'}\n",
    "eggs = spam\n",
    "spam is eggs"
   ]
  },
  {
   "cell_type": "code",
   "execution_count": 24,
   "metadata": {},
   "outputs": [
    {
     "data": {
      "text/plain": [
       "True"
      ]
     },
     "execution_count": 24,
     "metadata": {},
     "output_type": "execute_result"
    }
   ],
   "source": [
    "spam == eggs"
   ]
  },
  {
   "cell_type": "code",
   "execution_count": 25,
   "metadata": {},
   "outputs": [
    {
     "data": {
      "text/plain": [
       "True"
      ]
     },
     "execution_count": 25,
     "metadata": {},
     "output_type": "execute_result"
    }
   ],
   "source": [
    "bacon = {'name': 'noah'}\n",
    "spam == bacon"
   ]
  },
  {
   "cell_type": "code",
   "execution_count": 26,
   "metadata": {},
   "outputs": [
    {
     "data": {
      "text/plain": [
       "False"
      ]
     },
     "execution_count": 26,
     "metadata": {},
     "output_type": "execute_result"
    }
   ],
   "source": [
    "spam is bacon"
   ]
  },
  {
   "cell_type": "code",
   "execution_count": 32,
   "metadata": {},
   "outputs": [
    {
     "name": "stdout",
     "output_type": "stream",
     "text": [
      "4631011264 4631011264\n"
     ]
    }
   ],
   "source": [
    "# spam과 eggs 변수는 동일한 딕셔너리 객체를 참조한다.\n",
    "print(id(spam),\n",
    "id(eggs))"
   ]
  },
  {
   "cell_type": "code",
   "execution_count": 34,
   "metadata": {},
   "outputs": [
    {
     "name": "stdout",
     "output_type": "stream",
     "text": [
      "4631011264 4615789632\n"
     ]
    }
   ],
   "source": [
    "#bacond은 동일한 데이터가 포함되어 있지만, 별개의 딕셔너리 객체를 참조한다.\n",
    "print(id(spam),\n",
    "id(bacon))"
   ]
  },
  {
   "cell_type": "markdown",
   "metadata": {},
   "source": [
    "> ## 아이템\n",
    "아이템: 리스트나 딕셔너리처럼 컨테이너 객체 안에 있는 객체"
   ]
  },
  {
   "cell_type": "markdown",
   "metadata": {},
   "source": [
    "..."
   ]
  },
  {
   "cell_type": "markdown",
   "metadata": {},
   "source": [
    "> ## 가변 데이터 타입, 불변 데이터 타입"
   ]
  },
  {
   "cell_type": "markdown",
   "metadata": {},
   "source": [
    "가변: 객체의 값을 변경할 수 있다. <br>\n",
    "불변: 객체의 값을 변경할 수 없다."
   ]
  },
  {
   "cell_type": "markdown",
   "metadata": {},
   "source": [
    "|**가변 데이터 타입**|**불편 데이터 타입**|\n",
    "|-------|-------|\n",
    "|리스트(List)|정수(Integer)|\n",
    "|딕셔너리|부동소수점|\n",
    "|집합|부울|\n",
    "|바이트배열|문자열|\n",
    "|배열|고정 집합|\n",
    "||바이트|\n",
    "||튜플|"
   ]
  },
  {
   "cell_type": "markdown",
   "metadata": {},
   "source": [
    "> ## 인덱스, 키, 해시"
   ]
  },
  {
   "cell_type": "markdown",
   "metadata": {},
   "source": [
    "리스트 리터널에 대해 인덱스 연산자를 사용할 수도 있다.<br>\n",
    "(실제 코드에선 헷갈리고 불필요해 보일 것이다.)"
   ]
  },
  {
   "cell_type": "code",
   "execution_count": 42,
   "metadata": {},
   "outputs": [
    {
     "data": {
      "text/plain": [
       "'noah'"
      ]
     },
     "execution_count": 42,
     "metadata": {},
     "output_type": "execute_result"
    }
   ],
   "source": [
    "['no', 'noah', 'ah'][1]"
   ]
  },
  {
   "cell_type": "markdown",
   "metadata": {},
   "source": [
    "**해시**: 값에 대해 일종의 지문 역할을 하는 정수이다.<br>\n",
    "+ 객체의 수명주기 동안 절대로 변하지 않는다.\n",
    "+ 객체의 값이 같다면 해시도 반드시 같아야 한다.\n",
    "+ 불변 객체는 해시가 가능하고, 가변 객체는 해시가 *불가능하다.*"
   ]
  },
  {
   "cell_type": "code",
   "execution_count": 43,
   "metadata": {},
   "outputs": [
    {
     "data": {
      "text/plain": [
       "1641031511869227828"
      ]
     },
     "execution_count": 43,
     "metadata": {},
     "output_type": "execute_result"
    }
   ],
   "source": [
    "hash('hello')"
   ]
  },
  {
   "cell_type": "code",
   "execution_count": 44,
   "metadata": {},
   "outputs": [
    {
     "data": {
      "text/plain": [
       "529344067295497451"
      ]
     },
     "execution_count": 44,
     "metadata": {},
     "output_type": "execute_result"
    }
   ],
   "source": [
    "hash((1,2,3))"
   ]
  },
  {
   "cell_type": "code",
   "execution_count": 45,
   "metadata": {},
   "outputs": [
    {
     "ename": "TypeError",
     "evalue": "unhashable type: 'list'",
     "output_type": "error",
     "traceback": [
      "\u001b[0;31m---------------------------------------------------------------------------\u001b[0m",
      "\u001b[0;31mTypeError\u001b[0m                                 Traceback (most recent call last)",
      "Cell \u001b[0;32mIn [45], line 1\u001b[0m\n\u001b[0;32m----> 1\u001b[0m \u001b[38;5;28;43mhash\u001b[39;49m\u001b[43m(\u001b[49m\u001b[43m[\u001b[49m\u001b[38;5;241;43m1\u001b[39;49m\u001b[43m,\u001b[49m\u001b[38;5;241;43m2\u001b[39;49m\u001b[43m,\u001b[49m\u001b[38;5;241;43m3\u001b[39;49m\u001b[43m]\u001b[49m\u001b[43m)\u001b[49m\n",
      "\u001b[0;31mTypeError\u001b[0m: unhashable type: 'list'"
     ]
    }
   ],
   "source": [
    "hash([1,2,3])"
   ]
  },
  {
   "cell_type": "markdown",
   "metadata": {},
   "source": [
    "> ## 컨테이너, 시퀀스, 매핑, 집합 타입\n",
    "컨테이너 : 여러 종류의 객체를 포함할 수 있는, 어떤 데이터 타입이든 가능한 객체 (리스트, 딕셔너리)<br>\n",
    "시퀀스 : 정수 인덱스를 통해 접근 가능한, 순서 있는 값을 가진 컨테이너 데이터 타입의 객체 <br>\n",
    "(문자열, 튜플, 리스트, 바이트 객체)<br>\n",
    "맵핑 : 인덱스 대신 키를 사용하는 컨테이너 데이터 타입의 객체"
   ]
  },
  {
   "cell_type": "code",
   "execution_count": 47,
   "metadata": {},
   "outputs": [
    {
     "data": {
      "text/plain": [
       "['a', 'b', 'c']"
      ]
     },
     "execution_count": 47,
     "metadata": {},
     "output_type": "execute_result"
    }
   ],
   "source": [
    "spam = {'a': 1, 'b': 2, 'c': 3}\n",
    "list(spam.keys())"
   ]
  },
  {
   "cell_type": "markdown",
   "metadata": {},
   "source": [
    "+ # 흔히 혼동되어 사용되는 용어\n",
    "> ## 문 VS 표현식\n",
    "표현식: 단일 값으로 평가되는 값들과 연산자들로 구성된 명령어이다.<br>\n"
   ]
  },
  {
   "cell_type": "code",
   "execution_count": 5,
   "metadata": {},
   "outputs": [
    {
     "ename": "SyntaxError",
     "evalue": "cannot assign to operator (2904651805.py, line 4)",
     "output_type": "error",
     "traceback": [
      "\u001b[0;36m  Cell \u001b[0;32mIn [5], line 4\u001b[0;36m\u001b[0m\n\u001b[0;31m    2 + 2 = 4\u001b[0m\n\u001b[0m    ^\u001b[0m\n\u001b[0;31mSyntaxError\u001b[0m\u001b[0;31m:\u001b[0m cannot assign to operator\n"
     ]
    }
   ],
   "source": [
    "myName  = 'noah'\n",
    "\n",
    "#표현식 ex\n",
    "2 + 2 = 4\n",
    "len(myName) > 4\n",
    "myName == 'noah'"
   ]
  },
  {
   "cell_type": "markdown",
   "metadata": {},
   "source": [
    "문: 사실상, 값으로 도출되지 않는 모든 명령을 뜻한다.<br>\n",
    "(if문, retur문, def문)"
   ]
  },
  {
   "cell_type": "markdown",
   "metadata": {},
   "source": [
    "\n",
    "> ## 블록, 절, 바디\n",
    "블록: 들여쓰기로 시작하여 해당 들여쓰기 수준이 이전 들여쓰기 수준으로 돌아오면 종료된다.\n",
    "파이썬 공식 문서에서는 블록보다는 **절**이라는 용어를 선호한다."
   ]
  },
  {
   "cell_type": "code",
   "execution_count": null,
   "metadata": {},
   "outputs": [],
   "source": [
    "if name == 'noah':  #절 헤더\n",
    "    print('hello, kitty!')    #절 스위트(바디)\n",
    "    print('Do you want a treat?')   #절 스위트(바디)"
   ]
  },
  {
   "cell_type": "markdown",
   "metadata": {},
   "source": [
    "> ## 변수, 속성\n",
    "변수: 객체를 가리키는 이름\n",
    "속성: . 다음에 나오는 모든 이름 <Br>\n",
    "속성은 객체와 연관된다."
   ]
  },
  {
   "cell_type": "code",
   "execution_count": 10,
   "metadata": {},
   "outputs": [
    {
     "data": {
      "text/plain": [
       "(2022, 11)"
      ]
     },
     "execution_count": 10,
     "metadata": {},
     "output_type": "execute_result"
    }
   ],
   "source": [
    "import datetime \n",
    "spam = datetime.datetime.now() # spam => datetime 객체를 포함하는 변수\n",
    "spam.year ,  spam.month    # year, month => 해당 객체의 속성 "
   ]
  },
  {
   "cell_type": "markdown",
   "metadata": {},
   "source": [
    "> # 함수, 메소드\n",
    "함수: 자신이 호출될 때 실행되는 코드의 모음 <br>\n",
    "메소드: 클래스와 연관된 일종의 함수"
   ]
  },
  {
   "cell_type": "code",
   "execution_count": 12,
   "metadata": {},
   "outputs": [
    {
     "data": {
      "text/plain": [
       "4"
      ]
     },
     "execution_count": 12,
     "metadata": {},
     "output_type": "execute_result"
    }
   ],
   "source": [
    "# len()은 함수 \n",
    "len('noah')"
   ]
  },
  {
   "cell_type": "code",
   "execution_count": 13,
   "metadata": {},
   "outputs": [
    {
     "data": {
      "text/plain": [
       "'HELLO'"
      ]
     },
     "execution_count": 13,
     "metadata": {},
     "output_type": "execute_result"
    }
   ],
   "source": [
    "# upper()은 문자열 메소드\n",
    "'Hello'.upper()"
   ]
  },
  {
   "cell_type": "markdown",
   "metadata": {},
   "source": [
    "> ## 반복가능 객체 vs 반복자\n"
   ]
  },
  {
   "cell_type": "markdown",
   "metadata": {},
   "source": [
    "반복 가능한 객체(iterable)는 말 그대로 반복할 수 있는 객체인데 우리가 흔히 사용하는 문자열, 리스트, 딕셔너리, 세트가 반복 가능한 객체입니다. 즉, 요소가 여러 개 들어있고, 한 번에 하나씩 꺼낼 수 있는 객체입니다. 반복자(iterator)는 값을 차례대로 꺼낼 수 있는 객체(object)입니다."
   ]
  },
  {
   "cell_type": "code",
   "execution_count": 14,
   "metadata": {},
   "outputs": [
    {
     "data": {
      "text/plain": [
       "['n', 'o', 'a', 'h']"
      ]
     },
     "execution_count": 14,
     "metadata": {},
     "output_type": "execute_result"
    }
   ],
   "source": [
    "iterableObj = list('noah')\n",
    "iterableObj"
   ]
  },
  {
   "cell_type": "code",
   "execution_count": 15,
   "metadata": {},
   "outputs": [
    {
     "data": {
      "text/plain": [
       "'n'"
      ]
     },
     "execution_count": 15,
     "metadata": {},
     "output_type": "execute_result"
    }
   ],
   "source": [
    "iterableObj1 = iter(iterableObj)\n",
    "iterableObj2 = iter(iterableObj1)\n",
    "next(iterableObj1)"
   ]
  },
  {
   "cell_type": "code",
   "execution_count": 16,
   "metadata": {},
   "outputs": [
    {
     "data": {
      "text/plain": [
       "'o'"
      ]
     },
     "execution_count": 16,
     "metadata": {},
     "output_type": "execute_result"
    }
   ],
   "source": [
    "next(iterableObj1)"
   ]
  },
  {
   "cell_type": "code",
   "execution_count": 17,
   "metadata": {},
   "outputs": [
    {
     "data": {
      "text/plain": [
       "'a'"
      ]
     },
     "execution_count": 17,
     "metadata": {},
     "output_type": "execute_result"
    }
   ],
   "source": [
    "next(iterableObj2)"
   ]
  },
  {
   "cell_type": "markdown",
   "metadata": {},
   "source": [
    "반복가능 객체는 iter()함수에 인수로 전달되는 반면, iter()호출에서 반환되는 객체는 반복자 객체라는 점을 기억하자."
   ]
  },
  {
   "cell_type": "markdown",
   "metadata": {},
   "source": [
    "> ## 구분에러 vs 런타임 에러 vs 의미 에러\n",
    "+ 구분 에러 (syntax error) : 파이썬 인터프리터가 소스 코드의 텍스트를 올바른 명령어로 분석할 수 없을 때 발생 <br> \n",
    "(괄호 누락, 쉼표 대신 마침표 표기, 단순 오타 등)"
   ]
  },
  {
   "cell_type": "code",
   "execution_count": 19,
   "metadata": {},
   "outputs": [
    {
     "ename": "SyntaxError",
     "evalue": "unexpected EOF while parsing (1103635973.py, line 1)",
     "output_type": "error",
     "traceback": [
      "\u001b[0;36m  Cell \u001b[0;32mIn [19], line 1\u001b[0;36m\u001b[0m\n\u001b[0;31m    print('Hello'\u001b[0m\n\u001b[0m                 ^\u001b[0m\n\u001b[0;31mSyntaxError\u001b[0m\u001b[0;31m:\u001b[0m unexpected EOF while parsing\n"
     ]
    }
   ],
   "source": [
    "print('Hello'"
   ]
  },
  {
   "cell_type": "code",
   "execution_count": 25,
   "metadata": {},
   "outputs": [
    {
     "ename": "SyntaxError",
     "evalue": "invalid syntax (3966749015.py, line 1)",
     "output_type": "error",
     "traceback": [
      "\u001b[0;36m  Cell \u001b[0;32mIn [25], line 1\u001b[0;36m\u001b[0m\n\u001b[0;31m    a = [1. 2, 3]\u001b[0m\n\u001b[0m            ^\u001b[0m\n\u001b[0;31mSyntaxError\u001b[0m\u001b[0;31m:\u001b[0m invalid syntax\n"
     ]
    }
   ],
   "source": [
    "a = [1. 2, 3]\n",
    "a"
   ]
  },
  {
   "cell_type": "markdown",
   "metadata": {},
   "source": [
    "+ 런타임 에러(runtimeError): 실행 중인 프로그램이 존재하지 않는 파일을 열려고 하거나 숫자를 0으로 나누는 것과 같은 몇 가지 작업을 수행하지 못하는 경우에 발생"
   ]
  },
  {
   "cell_type": "code",
   "execution_count": 26,
   "metadata": {},
   "outputs": [
    {
     "ename": "ZeroDivisionError",
     "evalue": "division by zero",
     "output_type": "error",
     "traceback": [
      "\u001b[0;31m---------------------------------------------------------------------------\u001b[0m",
      "\u001b[0;31mZeroDivisionError\u001b[0m                         Traceback (most recent call last)",
      "Cell \u001b[0;32mIn [26], line 3\u001b[0m\n\u001b[1;32m      1\u001b[0m slices \u001b[38;5;241m=\u001b[39m \u001b[38;5;241m8\u001b[39m\n\u001b[1;32m      2\u001b[0m eaters \u001b[38;5;241m=\u001b[39m \u001b[38;5;241m0\u001b[39m\n\u001b[0;32m----> 3\u001b[0m \u001b[38;5;28mprint\u001b[39m(\u001b[38;5;124m'\u001b[39m\u001b[38;5;124mEach person eats\u001b[39m\u001b[38;5;124m'\u001b[39m, \u001b[43mslices\u001b[49m\u001b[43m \u001b[49m\u001b[38;5;241;43m/\u001b[39;49m\u001b[43m \u001b[49m\u001b[43meaters\u001b[49m, \u001b[38;5;124m'\u001b[39m\u001b[38;5;124mslices.\u001b[39m\u001b[38;5;124m'\u001b[39m)\n",
      "\u001b[0;31mZeroDivisionError\u001b[0m: division by zero"
     ]
    }
   ],
   "source": [
    "slices = 8\n",
    "eaters = 0\n",
    "print('Each person eats', slices / eaters, 'slices.')"
   ]
  },
  {
   "cell_type": "markdown",
   "metadata": {},
   "source": [
    "추적 정보에서 언급하는 행 번호는 파이썬 인터프리터가 에러를 감지한 지점일 뿐이라는 사실을 기억하자. 에러의 진짜 원인은 이전 코드 행에 있을 수도 있고 프로그램의 훨씬 더 앞쪽에서 발생했을 수도 있다."
   ]
  },
  {
   "cell_type": "markdown",
   "metadata": {},
   "source": [
    "+ 의미에러(semantic error) / 논리 에러(logical error) : 에러 메시지는 발생하거나 충돌을 일으키지 않지만, 컴퓨터는 프로그래머가 의도하지 않은 방식으로 코드를 수행"
   ]
  },
  {
   "cell_type": "code",
   "execution_count": 28,
   "metadata": {},
   "outputs": [
    {
     "name": "stdout",
     "output_type": "stream",
     "text": [
      "The sum of 4 and 2 is 42\n"
     ]
    }
   ],
   "source": [
    "# 정수 대신 문자열 값을 사용하여 의도하지 않은 행위 유발\n",
    "print('The sum of 4 and 2 is', '4' + '2')"
   ]
  },
  {
   "cell_type": "markdown",
   "metadata": {},
   "source": [
    "> ## 타입 강제 변환 vs 타입 캐스팅"
   ]
  },
  {
   "cell_type": "code",
   "execution_count": 30,
   "metadata": {},
   "outputs": [
    {
     "data": {
      "text/plain": [
       "str"
      ]
     },
     "execution_count": 30,
     "metadata": {},
     "output_type": "execute_result"
    }
   ],
   "source": [
    "type('42')"
   ]
  },
  {
   "cell_type": "code",
   "execution_count": 33,
   "metadata": {},
   "outputs": [
    {
     "data": {
      "text/plain": [
       "int"
      ]
     },
     "execution_count": 33,
     "metadata": {},
     "output_type": "execute_result"
    }
   ],
   "source": [
    "# int()함수가 원래 객체를 기반으로 새 정수 객체를 생성, 이를 캐스팅 \n",
    "type(int('42'))"
   ]
  },
  {
   "cell_type": "code",
   "execution_count": 34,
   "metadata": {},
   "outputs": [
    {
     "data": {
      "text/plain": [
       "5.0"
      ]
     },
     "execution_count": 34,
     "metadata": {},
     "output_type": "execute_result"
    }
   ],
   "source": [
    "# 타입 강제 변환\n",
    "2 + 3.0"
   ]
  },
  {
   "cell_type": "code",
   "execution_count": null,
   "metadata": {},
   "outputs": [],
   "source": []
  }
 ],
 "metadata": {
  "kernelspec": {
   "display_name": "Python 3.9.6 64-bit",
   "language": "python",
   "name": "python3"
  },
  "language_info": {
   "codemirror_mode": {
    "name": "ipython",
    "version": 3
   },
   "file_extension": ".py",
   "mimetype": "text/x-python",
   "name": "python",
   "nbconvert_exporter": "python",
   "pygments_lexer": "ipython3",
   "version": "3.9.6"
  },
  "orig_nbformat": 4,
  "vscode": {
   "interpreter": {
    "hash": "31f2aee4e71d21fbe5cf8b01ff0e069b9275f58929596ceb00d14d90e3e16cd6"
   }
  }
 },
 "nbformat": 4,
 "nbformat_minor": 2
}
